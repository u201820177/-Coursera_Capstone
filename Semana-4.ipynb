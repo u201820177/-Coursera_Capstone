{
  "nbformat": 4,
  "nbformat_minor": 0,
  "metadata": {
    "colab": {
      "name": "SEMANA4.ipynb",
      "provenance": [],
      "authorship_tag": "ABX9TyOVcr3+eI+JB+jHhMRxD3WS",
      "include_colab_link": true
    },
    "kernelspec": {
      "name": "python3",
      "display_name": "Python 3"
    },
    "language_info": {
      "name": "python"
    }
  },
  "cells": [
    {
      "cell_type": "markdown",
      "metadata": {
        "id": "view-in-github",
        "colab_type": "text"
      },
      "source": [
        "<a href=\"https://colab.research.google.com/github/u201820177/-Coursera_Capstone/blob/main/SEMANA4.ipynb\" target=\"_parent\"><img src=\"https://colab.research.google.com/assets/colab-badge.svg\" alt=\"Open In Colab\"/></a>"
      ]
    },
    {
      "cell_type": "markdown",
      "source": [
        "# **PLANTEAMIENTO DEL PROBLEMA**"
      ],
      "metadata": {
        "id": "Q78SuHwUjJx4"
      }
    },
    {
      "cell_type": "markdown",
      "source": [
        "# **Problema**"
      ],
      "metadata": {
        "id": "8ihiRs7cjR0w"
      }
    },
    {
      "cell_type": "markdown",
      "source": [
        "**El problema que trataremos es :¿Cuales son los mejores distritos para vivir en Toronto  ?**"
      ],
      "metadata": {
        "id": "ihiOUIa3jfkS"
      }
    },
    {
      "cell_type": "markdown",
      "source": [
        "# **Objetivo**"
      ],
      "metadata": {
        "id": "B5shobUtk3FC"
      }
    },
    {
      "cell_type": "markdown",
      "source": [
        "Ciertos usuarios desean vivir en Toronto y buscan los mejores distritos con cierto criterios : \n",
        "\n",
        "\n",
        "*   Precio del departamento\n",
        "*   Seguridad de la zona\n",
        "\n",
        "\n",
        "*   Si se encuentra cercano en zonas comerciales\n",
        "*   Si hay colegios, hospitales cercanos"
      ],
      "metadata": {
        "id": "InJm0AshmRhI"
      }
    },
    {
      "cell_type": "markdown",
      "source": [
        "# **Metodologia**"
      ],
      "metadata": {
        "id": "ayf18MRMn152"
      }
    },
    {
      "cell_type": "markdown",
      "source": [
        "\n",
        "\n",
        "1.   Con los datos de Foursquare de Toronto se hallaran los distritos que hay en cada zona marcada por el código postal.\n",
        "\n",
        "2.   Se podran observar todos los distritos y buscar departamentos y colocarlos en un tabla, con las caracteristicas que contiene.\n",
        "3.   Se encerraran todos los departamentos por distritos.\n",
        "4.   Se seleccionara los departamentos que cumplan con la mayoria de los criterios .\n",
        "\n"
      ],
      "metadata": {
        "id": "wwcAOKjjpXgn"
      }
    },
    {
      "cell_type": "markdown",
      "source": [
        "# **Datos**"
      ],
      "metadata": {
        "id": "-Gv2Jg3lqqY6"
      }
    },
    {
      "cell_type": "markdown",
      "source": [
        "Todos datos que se usaremos son aquellos brindados por Foursquare, por todo el repositorio de locales con su ubicación que permiten determinar la conveniencia geográfica de la puesta en marcha de buscar departamentos de una determinada zona."
      ],
      "metadata": {
        "id": "PuoA2YGpquwS"
      }
    }
  ]
}
